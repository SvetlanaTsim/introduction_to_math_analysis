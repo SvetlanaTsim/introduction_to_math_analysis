{
 "cells": [
  {
   "cell_type": "code",
   "execution_count": 1,
   "id": "d533f985",
   "metadata": {},
   "outputs": [],
   "source": [
    "import random\n",
    "import math\n",
    "import itertools"
   ]
  },
  {
   "cell_type": "markdown",
   "id": "c2ab8076",
   "metadata": {},
   "source": [
    "## ***Тема 1 “Введение в математическую логику”***"
   ]
  },
  {
   "cell_type": "markdown",
   "id": "531670e0",
   "metadata": {},
   "source": [
    "**1. Прочитать высказывания математической логики, построить их отрицания и установить истинность.**"
   ]
  },
  {
   "attachments": {
    "image.png": {
     "image/png": "[encoded data removed]"
    }
   },
   "cell_type": "markdown",
   "id": "6b37e9f2",
   "metadata": {},
   "source": [
    "**Ответы:**\n",
    "1. Для любого y от 0 включительно до 1 включительно сигнум равен 1.\n",
    "$$\\forall y \\in [0; 1] : sgn(y)=1$$\n",
    "Отрицание: Существует y от 0 включительно до 1 включительно, сигнум которого НЕ равен 1.\n",
    "$$\\exists y \\in [0; 1] : sgn(y)\\not=1$$\n",
    "Истинность: \n",
    "Функция sgn(x) (другое обозначение: sign(x), читается: «сигнум», от лат. signum — знак) определяется следующим образом:\n",
    "![image.png](attachment:image.png)\n",
    "Вывод: высказывание ложно, так как при y=0, sign(y)=0, а не 1.\n",
    "\n"
   ]
  },
  {
   "cell_type": "markdown",
   "id": "cbf6b1d5",
   "metadata": {},
   "source": [
    "2. Для любого натурального числа n, которое больше 2, существуют натуральные числа x,y,z, для которых выполняется условие: x встепени n равен сумме y в степени n и z в степени n.\n",
    "$$\\forall n\\in \\mathbb{N}>2 : \\exists x,y,z\\in \\mathbb{N} : x^n = y^n + z^n $$\n",
    "Отрицание: Существует натуральное число n, которое больше 2, для которого при любых натуральных числах x,y,z, выполняется условие: x в степени n НЕ равен сумме y в степени n и z в степени n.\n",
    "$$\\exists n\\in \\mathbb{N}>2 : \\forall x,y,z\\in \\mathbb{N} : x^n \\not= y^n + z^n $$\n",
    "Истинность: допускаю истинность, но однозначного доказательства высказывания или его отрицания найти не удалось. Так как натуральных чисел очень много допускаю, возможность что для каждого натурального числа можно найти такие натуральные числа, сумма которых, возведенных в данную степень даст третье натуральное число, возведенное в ту же степень. На примере подтвердить данное высказывание не удалось."
   ]
  },
  {
   "cell_type": "markdown",
   "id": "5a9fc679",
   "metadata": {},
   "source": [
    "3. Для любого вещественного числа x существует множество вещественных чисел Х, которые больше x.\n",
    "$$\\forall x\\in \\mathbb{R}\\exists X\\in \\mathbb{R} : X>x $$\n",
    "Отрицание: существует вещественное число x, для которого все множества вещественных чисел X будут меньше или равны х.\n",
    "$$\\exists x\\in \\mathbb{R}\\forall X\\in \\mathbb{R} : X\\leq x $$\n",
    "Истинность: высказывание истинно. Так как для любого вещественного числа существует множество чисел, которые больше его. "
   ]
  },
  {
   "cell_type": "markdown",
   "id": "324acc2d",
   "metadata": {},
   "source": [
    "4. Для любого комплексного числа x не существует комплексного числа y, при которых выполняется условие: x больше y или x меньше y.\n",
    "$$\\forall x\\in \\mathbb{С}\\nexists y\\in \\mathbb{C} : x > y || x < y $$\n",
    "Отрицание: Существует комплексное число x, для которого не существует комплексного числа y, при которых выполняется условие: x меньше или равен y или x больше или равен y.\n",
    "$$\\exists x\\in \\mathbb{С}\\nexists y\\in \\mathbb{C} : x \\leq y || x \\geq y $$\n",
    "Истинность: высказывание истинно, так как комплексные числа нельзя сравнивать между собой по критерию больше/меньше. \n",
    "\n",
    "Википедия гласит: \n",
    "\n",
    "В отличие от вещественных, комплексные числа нельзя сравнивать на больше/меньше; \n",
    "доказано, что нет способа распространить порядок, заданный для вещественных чисел, \n",
    "на все комплексные так, чтобы порядок был согласован с арифметическими операциями . \n",
    "Однако комплексные числа можно сравнивать на равно/не равно.\n",
    "Источник: \n",
    "[Источ](https://ru.wikipedia.org/wiki/%D0%9A%D0%BE%D0%BC%D0%BF%D0%BB%D0%B5%D0%BA%D1%81%D0%BD%D0%BE%D0%B5_%D1%87%D0%B8%D1%81%D0%BB%D0%BE)\n",
    "\n",
    "\n",
    "https://ru.wikipedia.org/wiki/%D0%9A%D0%BE%D0%BC%D0%BF%D0%BB%D0%B5%D0%BA%D1%81%D0%BD%D0%BE%D0%B5_%D1%87%D0%B8%D1%81%D0%BB%D0%BE"
   ]
  },
  {
   "cell_type": "markdown",
   "id": "8f5d2f09",
   "metadata": {},
   "source": [
    "5. Для любого y, принадлежащего интервалу от 0 включительно до pi/2 включительно существует epsilon больше 0, при котором sin(y) < sin(y + epsilon). \n",
    "$$\\forall y\\in [0; \\frac\\pi2] \\exists \\varepsilon > 0 : sin(y)< sin(y + \\varepsilon)$$\n",
    "Отрицание: Существует y, принадлежащий интервалу от 0 включительно до pi/2 включительно, для которого существует epsilon больше 0, при котором: sin(y) >= sin(y + epsilon).\n",
    "$$\\exists y\\in [0; \\frac\\pi2] \\exists \\varepsilon > 0 : sin(y)\\geq sin(y + \\varepsilon)$$\n",
    "Истинность: высказывание истинно, так как функция возрастает на этом промежутке. Например, если мы возьмем: $$y=0,  \\varepsilon = \\frac\\pi6; sin(y)=0; sin(y + \\varepsilon) = 1/2; 0 < 1/2 $$"
   ]
  },
  {
   "cell_type": "markdown",
   "id": "a99a54e1",
   "metadata": {},
   "source": [
    "6. Для любого y, принадлежащего интервалу от 0 включительно до pi невключительно существует epsilon больше 0, при котором cos(y) < cos(y + epsilon). \n",
    "$$\\forall y\\in [0; \\pi)\\exists\\varepsilon > 0 : cos(y)> \\cos(y + \\varepsilon)$$\n",
    "Отрицание: Существует y, принадлежащий интервалу от 0 включительно до pi невключительно, для которого при epsilon больше 0, выполняется условие: cos(y) <= cos(y + epsilon).\n",
    "$$\\exists y\\in [0; \\pi)\\forall\\varepsilon > 0 : cos(y)\\leq  \\cos(y + \\varepsilon)$$\n",
    "Истинность: высказывание истинно, так как функция убывает на этом промежутке. Например, если мы возьмем: $$y=0,  \\varepsilon = \\frac\\pi2; cos(y)=1; cos(y + \\varepsilon) = 0; 1 > 0$$"
   ]
  },
  {
   "cell_type": "markdown",
   "id": "179b0577",
   "metadata": {},
   "source": [
    "7. Cуществует x, которые не принадлежит ни одному из множеств - натуральных, целых, рациональных, действиельных и комплексных чисел. \n",
    "$$\\exists x : x\\notin \\mathbb{N, Z, Q, R, C}$$\n",
    "Отрицание: Для любого числа x верно то, что оно принадлежит какому-то/каким-то из множеств - натуральных, целых, рациональных, действиельных и комплексных чисел.\n",
    "$$\\forall x : x\\in \\mathbb{N, Z, Q, R, C}$$\n",
    "Истинность: высказывание ложно, так как каждое число принадлежит одному из перечисленных множеств (квантернионы и тд не берем в расчет). "
   ]
  },
  {
   "cell_type": "markdown",
   "id": "6cb1141a",
   "metadata": {},
   "source": [
    "## ***Тема 2 “Множество”***"
   ]
  },
  {
   "cell_type": "markdown",
   "id": "85c41e8d",
   "metadata": {},
   "source": [
    "**Даны три множества a,b и с. Необходимо выполнить все изученные виды бинарных операций над всеми комбинациями множеств.**\n",
    "**Выполнить задание 1 на языке Python**"
   ]
  },
  {
   "cell_type": "code",
   "execution_count": 2,
   "id": "00b2a150",
   "metadata": {},
   "outputs": [
    {
     "data": {
      "text/plain": [
       "({3, 94}, {13, 17, 28, 31, 94}, {3, 4, 11, 27, 29, 54, 64, 75})"
      ]
     },
     "execution_count": 2,
     "metadata": {},
     "output_type": "execute_result"
    }
   ],
   "source": [
    "random.seed(42)\n",
    "a = set([random.randint(0, 99) for _ in range(random.randint(1, 10))])\n",
    "b = set([random.randint(0, 99) for _ in range(random.randint(1, 10))])\n",
    "c = set([random.randint(0, 99) for _ in range(random.randint(1, 10))])\n",
    "a, b, c "
   ]
  },
  {
   "cell_type": "code",
   "execution_count": 3,
   "id": "2d89551e",
   "metadata": {},
   "outputs": [],
   "source": [
    "#дополнение, объединение, пересечение, разность, симметрическая разность"
   ]
  },
  {
   "cell_type": "code",
   "execution_count": 4,
   "id": "7b586278",
   "metadata": {},
   "outputs": [],
   "source": [
    "sets = {\n",
    "    'a': a,\n",
    "    'b': b,\n",
    "    'c': c\n",
    "}"
   ]
  },
  {
   "cell_type": "code",
   "execution_count": 5,
   "id": "0eff514b",
   "metadata": {},
   "outputs": [],
   "source": [
    "'''function for printing sets operations results (union, intersection, difference, symmetric_difference)'''\n",
    "def print_sets_operations_results(x, y):\n",
    "    print(f'Множества: {x}, {y}')\n",
    "    print(f'x: {sets[x]},\\ny: {sets[y]}')\n",
    "    print(f'Объединение {x} | {y}: {sets[x].union(sets[y])}')\n",
    "    print(f'Пересечение {x} & {y}: {sets[x].intersection(sets[y])}')\n",
    "    print(f'Разность {x} - {y}: {sets[x].difference(sets[y])}')\n",
    "    print(f'Симметрическая разность {x} ^ {y}: {sets[x].symmetric_difference(sets[y])}')\n",
    "    print('*'*30)\n",
    "    return    "
   ]
  },
  {
   "cell_type": "code",
   "execution_count": 6,
   "id": "abfb5116",
   "metadata": {},
   "outputs": [
    {
     "name": "stdout",
     "output_type": "stream",
     "text": [
      "('a', 'b')\n",
      "Множества: a, b\n",
      "x: {3, 94},\n",
      "y: {13, 17, 28, 94, 31}\n",
      "Объединение a | b: {17, 3, 28, 13, 94, 31}\n",
      "Пересечение a & b: {94}\n",
      "Разность a - b: {3}\n",
      "Симметрическая разность a ^ b: {17, 3, 28, 13, 31}\n",
      "******************************\n",
      "Множества: b, a\n",
      "x: {13, 17, 28, 94, 31},\n",
      "y: {3, 94}\n",
      "Объединение b | a: {17, 3, 28, 13, 94, 31}\n",
      "Пересечение b & a: {94}\n",
      "Разность b - a: {17, 28, 13, 31}\n",
      "Симметрическая разность b ^ a: {3, 13, 17, 28, 31}\n",
      "******************************\n",
      "('a', 'c')\n",
      "Множества: a, c\n",
      "x: {3, 94},\n",
      "y: {64, 3, 4, 75, 11, 54, 27, 29}\n",
      "Объединение a | c: {64, 3, 4, 75, 11, 54, 27, 29, 94}\n",
      "Пересечение a & c: {3}\n",
      "Разность a - c: {94}\n",
      "Симметрическая разность a ^ c: {64, 4, 75, 11, 54, 27, 29, 94}\n",
      "******************************\n",
      "Множества: c, a\n",
      "x: {64, 3, 4, 75, 11, 54, 27, 29},\n",
      "y: {3, 94}\n",
      "Объединение c | a: {64, 3, 4, 75, 11, 54, 27, 29, 94}\n",
      "Пересечение c & a: {3}\n",
      "Разность c - a: {64, 4, 11, 75, 54, 27, 29}\n",
      "Симметрическая разность c ^ a: {64, 4, 75, 11, 54, 27, 29, 94}\n",
      "******************************\n",
      "('b', 'c')\n",
      "Множества: b, c\n",
      "x: {13, 17, 28, 94, 31},\n",
      "y: {64, 3, 4, 75, 11, 54, 27, 29}\n",
      "Объединение b | c: {64, 3, 4, 75, 11, 13, 17, 54, 27, 28, 29, 94, 31}\n",
      "Пересечение b & c: set()\n",
      "Разность b - c: {13, 17, 28, 94, 31}\n",
      "Симметрическая разность b ^ c: {64, 3, 4, 75, 11, 13, 17, 54, 27, 28, 29, 94, 31}\n",
      "******************************\n",
      "Множества: c, b\n",
      "x: {64, 3, 4, 75, 11, 54, 27, 29},\n",
      "y: {13, 17, 28, 94, 31}\n",
      "Объединение c | b: {64, 3, 4, 75, 11, 13, 17, 54, 27, 28, 29, 94, 31}\n",
      "Пересечение c & b: set()\n",
      "Разность c - b: {64, 3, 4, 11, 75, 54, 27, 29}\n",
      "Симметрическая разность c ^ b: {64, 3, 4, 75, 11, 13, 17, 27, 28, 29, 94, 31, 54}\n",
      "******************************\n"
     ]
    }
   ],
   "source": [
    "for combination in itertools.combinations(sets.keys(), 2):\n",
    "    print(combination)\n",
    "    x, y = combination[0], combination[1]\n",
    "    print_sets_operations_results(x, y)\n",
    "    x, y = y, x\n",
    "    print_sets_operations_results(x, y)"
   ]
  }
 ],
 "metadata": {
  "kernelspec": {
   "display_name": "Python 3 (ipykernel)",
   "language": "python",
   "name": "python3"
  },
  "language_info": {
   "codemirror_mode": {
    "name": "ipython",
    "version": 3
   },
   "file_extension": ".py",
   "mimetype": "text/x-python",
   "name": "python",
   "nbconvert_exporter": "python",
   "pygments_lexer": "ipython3",
   "version": "3.9.7"
  }
 },
 "nbformat": 4,
 "nbformat_minor": 5
}

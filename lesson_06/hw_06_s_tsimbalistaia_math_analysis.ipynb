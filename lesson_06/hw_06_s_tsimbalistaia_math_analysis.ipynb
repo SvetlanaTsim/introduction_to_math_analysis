{
 "cells": [
  {
   "cell_type": "markdown",
   "id": "1fdeebe4",
   "metadata": {},
   "source": [
    "## **Тема 6 “Понятие о производной”**"
   ]
  },
  {
   "cell_type": "markdown",
   "id": "60f1ff2d",
   "metadata": {},
   "source": [
    "**1.Найти производную выражения:**"
   ]
  },
  {
   "cell_type": "markdown",
   "id": "98daf7d3",
   "metadata": {},
   "source": [
    "a. $sin(x) * cos(x)$\n",
    "\n",
    " $(sin(x) * cos(x))' = (sin(x))' * cos(x) + sin(x) * (cos(x))' = cos^2x - sin^2x = cos(2x)$"
   ]
  },
  {
   "cell_type": "markdown",
   "id": "65473a86",
   "metadata": {},
   "source": [
    "b. $ln(2x + 1)^3$\n",
    "\n",
    "$(ln(2x + 1)^3)' = \\frac{1}{(2x+1)^3} * 3(2x+1)^2 * 2 = \\frac{1 * 3 * (2x+1)^2 * 2}{(2x+1)^3} = \\frac{6}{2x + 1} $"
   ]
  },
  {
   "cell_type": "markdown",
   "id": "a3e81440",
   "metadata": {},
   "source": [
    "c. $\\sqrt{sin^2(ln(x^3))}$\n",
    "\n",
    "Можно сразу извлечь корень и брать производную от sin, можно не извлекать и сразу взять производную, для самопроверки попробуем и так, и так. \n",
    "\n",
    "$(\\sqrt{sin^2(ln(x^3))})' = \\frac{1}{2}sin^2(ln(x^3))^\\frac{-1}{2} * 2sin(ln(x^3)) * cos(ln(x^3)) * \\frac{1}{x^3} * 3x^2 = \\frac{1}{2\\sqrt{sin^2(ln(x^3))}} * cos(ln(x^3)) * \\frac{3}{x} * 2sin(ln(x^3)) = \\frac{2sin(ln(x^3)) * cos(ln(x^3)) * 3}{2\\sqrt{sin^2(ln(x^3)) * x}} = \\frac{3cos(ln(x^3))}{ x}$\n",
    "\n",
    "$\\sqrt{sin^2(ln(x^3))} =  sin(ln(x^3))$\n",
    "\n",
    "$(sin(ln(x^3)))' = cos(ln(x^3)) * \\frac{1}{x^3} * 3x^2 = \\frac{3cos(ln(x^3))}{ x}$"
   ]
  },
  {
   "cell_type": "markdown",
   "id": "72267140",
   "metadata": {},
   "source": [
    "d.$\\frac{x^4}{ln(x)}$\n",
    "\n",
    "$(\\frac{x^4}{ln(x)})' = \\frac{(x^4)' * lnx - x^4 * \\frac{1}{x} }{(ln(x))^2} = \\frac{4x^3 * lnx - x^3}{(ln(x))^2}$"
   ]
  },
  {
   "cell_type": "markdown",
   "id": "3b33b34b",
   "metadata": {},
   "source": [
    "**2.Найти выражение производной функции и ее значение в точке:**"
   ]
  },
  {
   "cell_type": "markdown",
   "id": "31cce787",
   "metadata": {},
   "source": [
    "$f(x) = cos(x^2 + 3x)$, $x0 = \\sqrt{\\pi}$"
   ]
  },
  {
   "cell_type": "markdown",
   "id": "deb0e198",
   "metadata": {},
   "source": [
    "$f'(x) = (cos(x^2 + 3x))'= -sin(x^2 + 3x) * (x^2 + 3x)' = -sin(x^2 + 3x) * (2x + 3)$\n",
    "\n",
    "$x0 = \\sqrt{\\pi}$\n",
    "\n",
    "$f'(x0) = -sin((\\sqrt{\\pi})^2 + 3\\sqrt{\\pi}) * (2\\sqrt{\\pi} + 3)  = -sin(\\pi + 3\\sqrt{\\pi}) * (2\\sqrt{\\pi} + 3)$"
   ]
  },
  {
   "cell_type": "markdown",
   "id": "cbae0c60",
   "metadata": {},
   "source": [
    "**3.Найти значение производной функции в точке:**"
   ]
  },
  {
   "cell_type": "markdown",
   "id": "34bfa492",
   "metadata": {},
   "source": [
    "$f(x) = \\frac{x^3 - x^2 - x - 1}{1 + 2x + 3x^2 - 4x^3}$, $x0 = 0$\n",
    "\n",
    "$(\\frac{U(x)}{V(x)})' = \\frac{(U(x))' * V(x) - U(x) * (V(x))'}{(V(x))^2}$\n",
    "\n",
    "$U(x) = x^3 - x^2 - x - 1$\n",
    "\n",
    "$V(x) = 1 + 2x + 3x^2 - 4x^3$\n",
    "\n",
    "$(U(x))' = (x^3 - x^2 - x - 1)' = 3x^2 - 2x - 1$\n",
    "\n",
    "$(V(x))' = (1 + 2x + 3x^2 - 4x^3)' = 2 + 6x - 12x^2$\n",
    "\n",
    "$(f(x))' = (\\frac{x^3 - x^2 - x - 1}{1 + 2x + 3x^2 - 4x^3})' = \\frac{(3x^2 - 2x - 1) * (1 + 2x + 3x^2 - 4x^3) - (x^3 - x^2 - x - 1) * (2 + 6x - 12x^2)}{(1 + 2x + 3x^2 - 4x^3)^2}$\n",
    "\n",
    "$(f(x0))' = \\frac{(3*0^2 - 2*0 - 1) * (1 + 2*0 + 3*0^2 - 4*0^3) - (0^3 - 0^2 - 0 - 1) * (2 + 6*0 - 12*0^2)}{(1 + 2*0 + 3*0^2 - 4*0^3)^2} = \\frac{(-1 * 1) - (-1 * 2)}{1} = \\frac{-1 + 2}{1} = 1$\n"
   ]
  },
  {
   "cell_type": "markdown",
   "id": "a9321c93",
   "metadata": {},
   "source": [
    "**4.Найти угол наклона касательной к графику функции в точке:**"
   ]
  },
  {
   "cell_type": "markdown",
   "id": "8af26b17",
   "metadata": {},
   "source": [
    "$f(x) = \\sqrt{3x}ln(x)$, $x0 = 1$\n",
    "\n",
    "Геометрический смысл производной - тангенс угла наклона касательной к графику функции в точке х0\n",
    "\n",
    "$(U(x) * V(x))' = U'(x) * V(x) + U(x) * V'(x)$\n",
    "\n",
    "$U(x) = \\sqrt{3x}$\n",
    "\n",
    "$U'(x) = (\\sqrt{3x})' = \\frac{1}{2\\sqrt{3x}} * 3 = \\frac{3}{2\\sqrt{3x}}$\n",
    "\n",
    "$V(x) = ln(x)$\n",
    "\n",
    "$V'(x) = (ln(x))' = \\frac{1}{x}$\n",
    "\n",
    "$f'(x) = (\\sqrt{3x}ln(x))'=  (\\frac{3}{2\\sqrt{3x}}) ln(x) + \\sqrt{3x} * \\frac{1}{x} = \\frac{3lnx}{2\\sqrt{3x}} + \\frac{\\sqrt{3x}}{x}$  \n",
    "$f'(x0) =  \\frac{3ln1}{2\\sqrt{3*1}} + \\frac{\\sqrt{3*1}}{1} = \\frac{3*0}{2\\sqrt{3}} * \\sqrt{3} = \\sqrt{3}$\n",
    "\n",
    "$\\alpha = arctg(\\sqrt{3}) = \\frac{\\pi}{3}= 60^{\\circ} = 1,04719755$ "
   ]
  }
 ],
 "metadata": {
  "kernelspec": {
   "display_name": "Python 3 (ipykernel)",
   "language": "python",
   "name": "python3"
  },
  "language_info": {
   "codemirror_mode": {
    "name": "ipython",
    "version": 3
   },
   "file_extension": ".py",
   "mimetype": "text/x-python",
   "name": "python",
   "nbconvert_exporter": "python",
   "pygments_lexer": "ipython3",
   "version": "3.9.7"
  }
 },
 "nbformat": 4,
 "nbformat_minor": 5
}

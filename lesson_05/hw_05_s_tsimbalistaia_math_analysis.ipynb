{
 "cells": [
  {
   "cell_type": "markdown",
   "id": "843e3ba1",
   "metadata": {},
   "source": [
    "## ***Тема “Теоремы о пределах”***"
   ]
  },
  {
   "cell_type": "markdown",
   "id": "7bb42904",
   "metadata": {},
   "source": [
    "**1. Найти предел:**"
   ]
  },
  {
   "cell_type": "markdown",
   "id": "6fe5725a",
   "metadata": {},
   "source": [
    "1. $\\lim_{x \\to 0} \\frac{x}{arcsin(x)}$<br>\n",
    "Согласно таблице эквивалентностей ${arcsin(\\alpha(x)) \\sim (\\alpha(x))}$, а также следствие из первого замечательного предела.\n",
    "\n",
    "$\\lim_{x \\to 0} \\frac{x}{arcsin(x)} = \\lim_{x \\to 0} \\frac{x}{x} = 1$<br>"
   ]
  },
  {
   "cell_type": "markdown",
   "id": "24a49f5c",
   "metadata": {},
   "source": [
    "2. $\\lim_{x \\to \\infty} (\\frac{4x+3}{4x-3})^{6x}$<br>\n",
    "Воспользуемся вторым замечательным пределом \n",
    "$\\lim_{x \\to \\infty} (1 +\\frac{1}{x})^{x} = e$<br>\n",
    " $\\lim_{x \\to \\infty} (\\frac{4x+3}{4x-3})^{6x} = \\lim_{x \\to \\infty} (\\frac{4x+3 - 3 + 3}{4x-3})^{6x}= \\lim_{x \\to \\infty} ( 1 + \\frac{6}{4x-3})^{6x} = \\lim_{x \\to \\infty} ( 1 + \\frac{6}{4x-3})^{\\frac{6(4x- 3)}{6(4x- 3)} * 6x} = \\lim_{x \\to \\infty} ( 1 + \\frac{6}{4x-3})^{\\frac{4x- 3}{6} * \\frac{6 * 6x}{4x- 3}} = \\lim_{x \\to \\infty} ( 1 + \\frac{6}{4x-3})^{\\frac{4x- 3}{6} * \\frac{36x}{4x- 3}} = e ^ {\\lim_{x \\to \\infty}\\frac{36x}{4x- 3}} = e ^ {\\frac{36x}{4}} = e ^ 9$<br>"
   ]
  },
  {
   "cell_type": "markdown",
   "id": "46289c70",
   "metadata": {},
   "source": [
    "3. $\\lim_{x \\to \\infty} \\frac{sin(x) + ln(x)}{x} = \\lim_{x \\to \\infty} (\\frac{sin(x)}{x} + \\frac{ln(x)}{x}) = 0 + 0 = 0 $<br>\n",
    "Комментарий: при стремлении x к бесконечности степенная функция x ^ 1 возрастает быстрее, чем sin(x) и ln(x), поэтому sin(x)/x и ln(x)/x превращаются в нули. "
   ]
  },
  {
   "cell_type": "markdown",
   "id": "05d02521",
   "metadata": {},
   "source": [
    "4. $\\lim_{x \\to 0} \\frac{sin(x) + ln(x)}{x}  = \\lim_{x \\to 0} (\\frac{sin(x)}{x} + \\frac{ln(x)}{x} ) = 1 -\\infty = -\\infty$<br>"
   ]
  }
 ],
 "metadata": {
  "kernelspec": {
   "display_name": "Python 3 (ipykernel)",
   "language": "python",
   "name": "python3"
  },
  "language_info": {
   "codemirror_mode": {
    "name": "ipython",
    "version": 3
   },
   "file_extension": ".py",
   "mimetype": "text/x-python",
   "name": "python",
   "nbconvert_exporter": "python",
   "pygments_lexer": "ipython3",
   "version": "3.9.7"
  }
 },
 "nbformat": 4,
 "nbformat_minor": 5
}

{
 "cells": [
  {
   "cell_type": "markdown",
   "id": "1866cf7d",
   "metadata": {},
   "source": [
    "## **Тема 7 «Производные функций нескольких переменных».**"
   ]
  },
  {
   "cell_type": "markdown",
   "id": "51b2fb97",
   "metadata": {},
   "source": [
    "1. **Найти область определения функции.**\n",
    "\n",
    "$z = \\sqrt{1 - x^3} + ln (y^2 - 1);$"
   ]
  },
  {
   "cell_type": "markdown",
   "id": "0c951406",
   "metadata": {},
   "source": [
    "$z = \\sqrt{1 - x^3} + ln (y^2 - 1);$\n",
    "\n",
    "Облать определения функции будет зависеть от возможных значений x и y.\n",
    "\n",
    "$1 - x^3 \\geqslant 0$\n",
    "\n",
    "$x \\leqslant 1$\n",
    "\n",
    "$x \\in (-\\infty; 1]$\n",
    "\n",
    "$y^2 - 1 > 0$\n",
    "\n",
    "$y^2 > 1$\n",
    "\n",
    "$y1 > 1; $\n",
    "$y2 < -1  $\n",
    "\n",
    "$y \\in (-\\infty; -1) \\cup (1; +\\infty)$\n",
    "\n",
    "\n",
    "Ответ: $x \\in (-\\infty; 1];$ $y \\in (-\\infty; -1) \\cup (1; +\\infty)$"
   ]
  },
  {
   "cell_type": "markdown",
   "id": "35b6b9a2",
   "metadata": {},
   "source": [
    "2. **Найти производные 1-го порядка функции.**\n",
    "\n",
    "$z = (1 + \\frac{lnx}{lny})^3$"
   ]
  },
  {
   "cell_type": "markdown",
   "id": "e8fadaa8",
   "metadata": {},
   "source": [
    "$z = (1 + \\frac{lnx}{lny})^3$\n",
    "\n",
    "$\\frac{\\delta z}{\\delta x}  = 3 (1 + \\frac{lnx}{lny})^2 * \\frac{1}{xlny}$\n",
    "\n",
    "$\\frac{\\delta z}{\\delta y}  = -3 (1 + \\frac{lnx}{lny})^2 * \\frac{lnx}{y(lny)^2}$"
   ]
  },
  {
   "cell_type": "markdown",
   "id": "13f7710b",
   "metadata": {},
   "source": [
    "3. **Найти полный дифференциал функции в точке (1;1).**\n",
    "\n",
    "$z = \\sqrt{2xy + cos\\frac{x}{y}}$"
   ]
  },
  {
   "cell_type": "markdown",
   "id": "0f94dc1d",
   "metadata": {},
   "source": [
    "$z = \\sqrt{2xy + cos\\frac{x}{y}}$\n",
    "\n",
    "$dW = \\frac{\\delta W}{\\delta x} dx + \\frac{\\delta W}{\\delta y} dy + \\frac{\\delta W}{\\delta z} dz$\n",
    "\n",
    "$dx z = \\frac{\\delta z}{\\delta x} dx = ((2xy + cos \\frac {x}{y})^ \\frac{1}{2})'_x * dx = \\frac{1}{2}(2xy + cos \\frac {x}{y})^ \\frac{-1}{2} * (2y - sin \\frac{x}{y}) * \\frac{1}{y} * dx = \\frac{2y - sin\\frac{x}{y}}{2y\\sqrt{2xy + cos\\frac{x}{y}}} * dx$\n",
    "\n",
    "$dx z (1;1) = \\frac{2 - sin1}{2 \\sqrt{2 + cos1}} * dx \\approx \\frac{2 - 0,841}{2 \\sqrt{2 + 0,54}} * dx  \\approx 0,3637 * dx $\n",
    "\n",
    "$dy z = \\frac{\\delta z}{\\delta y} dy = ((2xy + cos \\frac {x}{y})^ \\frac{1}{2})'_y * dy = \\frac{1}{2}(2xy + cos \\frac {x}{y})^ \\frac{-1}{2} * (2x - sin \\frac{x}{y}) * \\frac{-x}{y^2} * dy = \\frac{-x(2x - sin\\frac{x}{y})}{2y^2\\sqrt{2xy + cos\\frac{x}{y}}} * dy$\n",
    "\n",
    "$dy z (1;1) = \\frac{sin1 - 2 }{2 \\sqrt{2 + cos1}} * dy \\approx \\frac{0,841 - 2 }{2 \\sqrt{2 + 0,54}} * dy  \\approx  -0,3637 * dy$\n",
    "\n",
    "$dz = \\frac{2y - sin\\frac{x}{y}}{2y\\sqrt{2xy + cos\\frac{x}{y}}} * dx + \\frac{-x(2x - sin\\frac{x}{y})}{2y^2\\sqrt{2xy + cos\\frac{x}{y}}} * dy$\n",
    "\n",
    "$dz (1;1) = \\frac{2 - sin1}{2 \\sqrt{2 + cos1}} * dx  + \\frac{sin1 - 2 }{2 \\sqrt{2 + cos1}} * dy \\approx 0,3637 * dx -0,3637 * dy $\n"
   ]
  },
  {
   "cell_type": "markdown",
   "id": "43754864",
   "metadata": {},
   "source": [
    "4. **Исследовать на экстремум функцию**\n",
    "\n",
    "$z = x^2 + xy + y^2 - 6x - 9y$"
   ]
  },
  {
   "cell_type": "markdown",
   "id": "b27725c4",
   "metadata": {},
   "source": [
    "$z = x^2 + xy + y^2 - 6x - 9y$\n",
    "\n",
    "Найдем первые частные производные, приравняем их к нулю и решим систему уравнений. Таким образом, найдем стационарные точки.\n",
    "\n",
    "$\\frac{\\delta z}{\\delta x} = 2x + y - 6$\n",
    "\n",
    "$\\frac{\\delta z}{\\delta y} = x + 2y - 9$\n",
    "\n",
    "$\\left\\{\n",
    "  \\begin{array}{ccc}\n",
    "    2𝑥+𝑦−6 & = & 0 \\\\\n",
    "    x + 2y - 9 & = & 0 \\\\\n",
    "  \\end{array}\n",
    "\\right.$\n",
    "\n",
    "$\\left\\{\n",
    "  \\begin{array}{ccc}\n",
    "    x & = & 1 \\\\\n",
    "   y & = & 4 \\\\\n",
    "  \\end{array}\n",
    "\\right.$\n",
    "\n",
    "Найдем вторые производные, чтобы построить матрицу Гессе.\n",
    "\n",
    "$\\frac{\\delta ^ 2 z}{\\delta x^2} = (2𝑥+𝑦−6)' _ x = 2$\n",
    "\n",
    "$\\frac{\\delta ^ 2 z}{\\delta x \\delta y} = (2𝑥+𝑦−6)' _ y = 1$\n",
    "\n",
    "$\\frac{\\delta ^ 2 z}{\\delta y^2} = (x + 2y - 9)' _ y = 2$\n",
    "\n",
    "$\\left|\n",
    "  \\begin{array}{ccc}\n",
    "     2 &  & 1 \\\\\n",
    "     1 &  & 2 \\\\\n",
    "  \\end{array}\n",
    "\\right| = 2 * 2 - 1 = 3$\n",
    "\n",
    "Детерминант $3 > 0$, значит в точке x = 1, y = 4 - экстремум функции\n",
    "\n",
    "2 > 0 - значит в точке x = 1, y = 4 - минимум\n"
   ]
  }
 ],
 "metadata": {
  "kernelspec": {
   "display_name": "Python 3 (ipykernel)",
   "language": "python",
   "name": "python3"
  },
  "language_info": {
   "codemirror_mode": {
    "name": "ipython",
    "version": 3
   },
   "file_extension": ".py",
   "mimetype": "text/x-python",
   "name": "python",
   "nbconvert_exporter": "python",
   "pygments_lexer": "ipython3",
   "version": "3.9.7"
  }
 },
 "nbformat": 4,
 "nbformat_minor": 5
}

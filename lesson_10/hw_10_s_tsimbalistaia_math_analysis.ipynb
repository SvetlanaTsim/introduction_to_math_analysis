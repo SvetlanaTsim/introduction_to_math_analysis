{
 "cells": [
  {
   "cell_type": "markdown",
   "id": "5f3575fd",
   "metadata": {},
   "source": [
    "## **Тема 8 “Понятие об интеграле”**"
   ]
  },
  {
   "cell_type": "markdown",
   "id": "7b56fd79",
   "metadata": {},
   "source": [
    "#### 1. Найти неопределенный интеграл:\n",
    "$\\int_{}^{}(2x^2 - 2x - 1 + sin(x) - cos(x) + ln(x) + e^x)dx$"
   ]
  },
  {
   "cell_type": "markdown",
   "id": "0157ce07",
   "metadata": {},
   "source": [
    "Решение\n",
    "\n",
    "$\\int_{}^{}(2x^2 - 2x - 1 + sin(x) - cos(x) + ln(x) + e^x)dx = 2\\int_{}^{}x^2dx - 2\\int_{}^{}xdx - \\int_{}^{}dx + \\int_{}^{}sinxdx - \\int_{}^{}cosxdx + \\int_{}^{}lnxdx + \\int_{}^{}e^xdx = \\frac{2x^3}{3} - \\frac{2x^2}{2} - x - cosx - sinx + xlnx - x + e^x + C = \\frac{2x^3}{3} - x^2 - 2x - cosx - sinx + xlnx + e^x + C$"
   ]
  },
  {
   "cell_type": "markdown",
   "id": "cccd173c",
   "metadata": {},
   "source": [
    "#### 2. Найти неопределенный интеграл:\n",
    "$\\int_{}^{}(2x + 6xz^2 - 5x^2y - 3ln(z))dx$"
   ]
  },
  {
   "cell_type": "markdown",
   "id": "d557ea66",
   "metadata": {},
   "source": [
    "Решение\n",
    "\n",
    "$\\int_{}^{}(2x + 6xz^2 - 5x^2y - 3ln(z))dx = 2\\int_{}^{}xdx + 6z^2\\int_{}^{}xdx - 5y\\int_{}^{}x^2dx - 3lnz\\int_{}^{}dx = \\frac{2x^2}{2} + 6z^2 \\frac{x^2}{2} - 5y\\frac{x^3}{3} - 3lnz *x +C = x^2 + 3z^2x^2 - \\frac{5yx^3}{3} - 3xlnz + C $\n"
   ]
  },
  {
   "cell_type": "markdown",
   "id": "0e87c71a",
   "metadata": {},
   "source": [
    "#### 3. Вычислить определенный интеграл:\n",
    "$\\int_{0}^{\\pi}3x^2sin(2x)dx$"
   ]
  },
  {
   "cell_type": "markdown",
   "id": "bb9361f5",
   "metadata": {},
   "source": [
    "Решение\n",
    "\n",
    "$\\int_{0}^{\\pi}3x^2sin(2x)dx$\n",
    "\n",
    "Применим правило взятия интеграла по частям:\n",
    "\n",
    "$\\int_{}^{}udv$ = $uv - \\int_{}^{}vdu$<br>\n",
    "\n",
    "$U = x^2$ \n",
    "\n",
    "$dU = d(x^2) = 2xdx$ \n",
    "\n",
    "$dV = 3sin(2x)dx$ \n",
    "\n",
    "$V = \\int_{}^{}3sin(2x)dx = \\frac{3}{2}\\int_{}^{}sin(2x)d(2x) = -\\frac{3}{2}cos(2x) + C$\n",
    "\n",
    "$\\int_{}^{}3x^2sin(2x)dx = x^2 * (-\\frac{3}{2}cos(2x)) -  \\int_{}^{}-\\frac{3}{2}cos(2x)*2xdx = \\frac{-3x^2cos(2x)}{2} +  3\\int_{}^{}cos(2x)*xdx$\n",
    "\n",
    "Отдельно найдем интеграл: \n",
    "\n",
    "$3\\int_{}^{}cos(2x)*xdx$\n",
    "\n",
    "$U = x$ \n",
    "\n",
    "$dU = d(x) = dx$ \n",
    "\n",
    "$dV = cos(2x)dx$ \n",
    "\n",
    "$V = \\int_{}^{}cos(2x)dx = \\frac{1}{2}\\int_{}^{}cos(2x)d(2x) = \\frac{1}{2}sin(2x) + C$\n",
    "\n",
    "Подставим полученные значение: \n",
    "\n",
    "$3\\int_{}^{}cos(2x)*xdx = 3(x * \\frac{1}{2}sin(2x) - \\int_{}^{}\\frac{1}{2}sin(2x)dx) = \\frac{3xsin(2x)}{2} - \\frac{3}{4}\\int_{}^{}\\sin(2x)d(2x) = \\frac{3xsin(2x)}{2} + \\frac{3}{4}cos(2x) + C$\n",
    "\n",
    "Теперь подставим полученное значение в исходное решение:\n",
    "\n",
    "$\\frac{-3x^2cos(2x)}{2} +  3\\int_{}^{}cos(2x)*xdx = \\frac{-3x^2cos(2x)}{2} + \\frac{3xsin(2x)}{2} + \\frac{3}{4}cos(2x) + C$\n",
    "\n",
    "Теперь найдем определенный интеграл:\n",
    "\n",
    "$\\int_{0}^{\\pi}3x^2sin(2x)dx$<br>\n",
    "\n",
    "$F(\\pi)$ = $-3\\frac{\\pi^2}{2} + \\frac{3}{4} + С $<br>\n",
    "$F(0)$ = $\\frac{3}{4} + С $<br>\n",
    "\n",
    "$\\int_{0}^{\\pi}3x^2sin(2x)dx = -3\\frac{\\pi^2}{2} + \\frac{3}{4} + С - \\frac{3}{4} - С = -3\\frac{\\pi^2}{2}$ \n",
    "\n",
    "Ответ: $-3\\frac{\\pi^2}{2}$ "
   ]
  },
  {
   "cell_type": "markdown",
   "id": "3f13ae10",
   "metadata": {},
   "source": [
    "#### 4. Найти неопределенный интеграл:\n",
    "$\\int_{}^{}\\frac{1}{\\sqrt{x+1}}dx$"
   ]
  },
  {
   "cell_type": "markdown",
   "id": "ed3267c1",
   "metadata": {},
   "source": [
    "Решение\n",
    "\n",
    "$\\int_{}^{}\\frac{1}{\\sqrt{x+1}}dx$\n",
    "\n",
    "Воспользуемся правилом замены:\n",
    "\n",
    "$\\sqrt{x+1}=t$\n",
    "\n",
    "$x=t^2 - 1$\n",
    "\n",
    "$dx=2tdt$\n",
    "\n",
    "$\\int_{}^{}\\frac{1}{\\sqrt{x+1}}dx = \\int_{}^{}\\frac{1}{t}2tdt = \\int_{}^{}2dt = 2t +  C= 2\\sqrt{x+1} + C$ \n"
   ]
  }
 ],
 "metadata": {
  "kernelspec": {
   "display_name": "Python 3 (ipykernel)",
   "language": "python",
   "name": "python3"
  },
  "language_info": {
   "codemirror_mode": {
    "name": "ipython",
    "version": 3
   },
   "file_extension": ".py",
   "mimetype": "text/x-python",
   "name": "python",
   "nbconvert_exporter": "python",
   "pygments_lexer": "ipython3",
   "version": "3.9.7"
  }
 },
 "nbformat": 4,
 "nbformat_minor": 5
}
